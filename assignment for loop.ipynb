{
 "cells": [
  {
   "cell_type": "code",
   "execution_count": 3,
   "id": "c8f09e42-3fde-4836-b2b0-b85db8156e7a",
   "metadata": {},
   "outputs": [
    {
     "name": "stdout",
     "output_type": "stream",
     "text": [
      "0\n",
      "1\n",
      "2\n",
      "3\n",
      "4\n",
      "5\n",
      "6\n",
      "7\n"
     ]
    }
   ],
   "source": [
    "#1)A \"For\" Loop is used to repeat a specific block of code a known number of times.ex:-to find the sum of first 100 integers\n",
    "\n",
    "sum=0\n",
    "for i in range(101):\n",
    "    sum+=i\n",
    "sum\n",
    "#A \"While\" Loop is used to repeat a specific block of code an unknown number of times, until a condition is met. ex:-printing numbers from 0 to 6\n",
    "i=0\n",
    "while i<=7:\n",
    "    print(i)\n",
    "    i+=1\n"
   ]
  },
  {
   "cell_type": "code",
   "execution_count": 4,
   "id": "3f975e7c-0b4e-4372-9f34-15536dd181d3",
   "metadata": {},
   "outputs": [
    {
     "data": {
      "text/plain": [
       "55"
      ]
     },
     "execution_count": 4,
     "metadata": {},
     "output_type": "execute_result"
    }
   ],
   "source": [
    "#2) for finding sum using for loop\n",
    "sum=0\n",
    "for i in range(11):\n",
    "    sum+=i\n",
    "sum"
   ]
  },
  {
   "cell_type": "code",
   "execution_count": null,
   "id": "775deed3-cc75-491f-a4a4-20c6c2938210",
   "metadata": {},
   "outputs": [],
   "source": [
    "#for finding product using for loop\n",
    "pro=1\n",
    "for i in range(1,11):\n",
    "    pro=pro*i\n",
    "pro"
   ]
  },
  {
   "cell_type": "code",
   "execution_count": 1,
   "id": "a09397fe-1b70-436b-90d9-cb14e3a18e24",
   "metadata": {},
   "outputs": [
    {
     "name": "stdout",
     "output_type": "stream",
     "text": [
      "66\n"
     ]
    }
   ],
   "source": [
    "#for finding sum using while loop\n",
    "\n",
    "sum=0\n",
    "i=0\n",
    "while i<=11:\n",
    "    sum=sum+i\n",
    "    i+=1\n",
    "print(sum)"
   ]
  },
  {
   "cell_type": "code",
   "execution_count": null,
   "id": "60017aae-c8be-426d-ada2-e97536558ccf",
   "metadata": {},
   "outputs": [],
   "source": [
    "#for finding product using while loop\n",
    "i=1\n",
    "prod=1\n",
    "while i<=11:\n",
    "    prod=prod*i\n",
    "    i+=1\n",
    "print(prod)"
   ]
  },
  {
   "cell_type": "code",
   "execution_count": null,
   "id": "6a4b78f0-2435-4dc1-a8c4-f82a7d8bfd64",
   "metadata": {},
   "outputs": [],
   "source": [
    "#3)\n",
    "bill=int(input(\"Enter the electricity bill of the month:\"))\n",
    "if bill<=100:\n",
    "    print(\"Bill for the month is:\",4.5*bill)\n",
    "elif bill>=100 and bill<=200:\n",
    "    a=bill-100\n",
    "    print(\"Bill for the month is:\",4.5*100 + 6*a)\n",
    "elif bill>200 and bill<=300:\n",
    "    print(\"Bill for the month is:\",4.5*100 + 6*100 +10*(bill-200))\n",
    "else:\n",
    "    print(\"Bill for the month is:\",4.5*100 + 6*100 + 10*100 + 20*(bill-300))"
   ]
  },
  {
   "cell_type": "code",
   "execution_count": null,
   "id": "20df54ba-5eca-4a25-9d57-e42fff4e2557",
   "metadata": {},
   "outputs": [],
   "source": [
    "#4)\n",
    "#using for loop\n",
    "l=[]\n",
    "for i in range(1,101):\n",
    "    l.append(i)\n",
    "#print(l)\n",
    "l1=[]\n",
    "for i in l:\n",
    "    if i*i*i % 4== 0 or i*i*i %5==0:\n",
    "        l1.append(i)\n",
    "print(\"cube of these numbers are divisible by 4 or 5\")\n",
    "print(l1)"
   ]
  },
  {
   "cell_type": "code",
   "execution_count": 2,
   "id": "0edefce9-ad35-4602-9c43-1a5c65e45cbd",
   "metadata": {},
   "outputs": [
    {
     "name": "stdout",
     "output_type": "stream",
     "text": [
      "cube of these numbers are divisible by 4 or 5\n",
      "[2, 4, 5, 6, 8, 10, 12, 14, 15, 16, 18, 20, 22, 24, 25, 26, 28, 30, 32, 34, 35, 36, 38, 40, 42, 44, 45, 46, 48, 50, 52, 54, 55, 56, 58, 60, 62, 64, 65, 66, 68, 70, 72, 74, 75, 76, 78, 80, 82, 84, 85, 86, 88, 90, 92, 94, 95, 96, 98, 100]\n"
     ]
    }
   ],
   "source": [
    "#using while loop\n",
    "l=[]\n",
    "l1=[]\n",
    "i=1\n",
    "while i<=100:\n",
    "    l.append(i)\n",
    "    if i*i*i % 4== 0 or i*i*i %5==0:\n",
    "        l1.append(i)\n",
    "    i+=1\n",
    "print(\"cube of these numbers are divisible by 4 or 5\")\n",
    "print(l1)\n"
   ]
  },
  {
   "cell_type": "code",
   "execution_count": 3,
   "id": "3d24c4c6-2e45-49ce-845d-2b44281b29a2",
   "metadata": {},
   "outputs": [
    {
     "name": "stdout",
     "output_type": "stream",
     "text": [
      "11\n",
      "['a', 'o', 'e', 'o', 'e', 'a', 'a', 'a', 'i', 'e', 'i']\n"
     ]
    }
   ],
   "source": [
    "string=\"I want to become a data scientist\"\n",
    "v=[]\n",
    "count=0\n",
    "for i in string:\n",
    "    if i==\"a\" or i==\"e\" or i==\"i\" or i==\"o\" or i==\"u\":\n",
    "        count+=1\n",
    "        v.append(i)\n",
    "print(count)\n",
    "print(v)"
   ]
  },
  {
   "cell_type": "code",
   "execution_count": null,
   "id": "30a0784b",
   "metadata": {},
   "outputs": [],
   "source": []
  }
 ],
 "metadata": {
  "kernelspec": {
   "display_name": "Python 3",
   "language": "python",
   "name": "python3"
  },
  "language_info": {
   "codemirror_mode": {
    "name": "ipython",
    "version": 3
   },
   "file_extension": ".py",
   "mimetype": "text/x-python",
   "name": "python",
   "nbconvert_exporter": "python",
   "pygments_lexer": "ipython3",
   "version": "3.10.5"
  },
  "vscode": {
   "interpreter": {
    "hash": "92625eafb35a1ff25dd5d956da6a50926a1666446bd57108888a7ab00b47a5ba"
   }
  }
 },
 "nbformat": 4,
 "nbformat_minor": 5
}
